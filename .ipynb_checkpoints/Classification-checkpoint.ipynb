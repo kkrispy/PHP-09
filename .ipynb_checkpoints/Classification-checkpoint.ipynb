{
 "cells": [
  {
   "cell_type": "code",
   "execution_count": 10,
   "metadata": {},
   "outputs": [
    {
     "ename": "NameError",
     "evalue": "name 'o' is not defined",
     "output_type": "error",
     "traceback": [
      "\u001b[0;31m---------------------------------------------------------------------------\u001b[0m",
      "\u001b[0;31mNameError\u001b[0m                                 Traceback (most recent call last)",
      "\u001b[0;32m<ipython-input-10-ac23571078d0>\u001b[0m in \u001b[0;36m<module>\u001b[0;34m\u001b[0m\n\u001b[1;32m     46\u001b[0m     \u001b[0;32mfor\u001b[0m \u001b[0mx_vec\u001b[0m\u001b[0;34m,\u001b[0m \u001b[0mlabel\u001b[0m \u001b[0;32min\u001b[0m \u001b[0mzip\u001b[0m\u001b[0;34m(\u001b[0m\u001b[0mx_vecs\u001b[0m\u001b[0;34m,\u001b[0m \u001b[0mtargets\u001b[0m\u001b[0;34m)\u001b[0m\u001b[0;34m:\u001b[0m\u001b[0;34m\u001b[0m\u001b[0;34m\u001b[0m\u001b[0m\n\u001b[1;32m     47\u001b[0m \u001b[0;34m\u001b[0m\u001b[0m\n\u001b[0;32m---> 48\u001b[0;31m         \u001b[0mw_vec\u001b[0m \u001b[0;34m=\u001b[0m \u001b[0mtrain\u001b[0m\u001b[0;34m(\u001b[0m\u001b[0mw_vec\u001b[0m\u001b[0;34m,\u001b[0m \u001b[0mx_vec\u001b[0m\u001b[0;34m,\u001b[0m \u001b[0mlabel\u001b[0m\u001b[0;34m)\u001b[0m\u001b[0;34m\u001b[0m\u001b[0;34m\u001b[0m\u001b[0m\n\u001b[0m\u001b[1;32m     49\u001b[0m \u001b[0mprint\u001b[0m \u001b[0;34m(\u001b[0m\u001b[0mw_vec\u001b[0m\u001b[0;34m)\u001b[0m\u001b[0;34m\u001b[0m\u001b[0;34m\u001b[0m\u001b[0m\n\u001b[1;32m     50\u001b[0m \u001b[0;34m\u001b[0m\u001b[0m\n",
      "\u001b[0;32m<ipython-input-10-ac23571078d0>\u001b[0m in \u001b[0;36mtrain\u001b[0;34m(w_vec, x_vec, target)\u001b[0m\n\u001b[1;32m      7\u001b[0m \u001b[0;34m\u001b[0m\u001b[0m\n\u001b[1;32m      8\u001b[0m     \u001b[0malpha\u001b[0m \u001b[0;34m=\u001b[0m \u001b[0;36m0.7\u001b[0m\u001b[0;34m\u001b[0m\u001b[0;34m\u001b[0m\u001b[0m\n\u001b[0;32m----> 9\u001b[0;31m     \u001b[0;32mif\u001b[0m \u001b[0;34m(\u001b[0m\u001b[0mnp\u001b[0m\u001b[0;34m.\u001b[0m\u001b[0mdot\u001b[0m\u001b[0;34m(\u001b[0m\u001b[0mw_vec\u001b[0m\u001b[0;34m,\u001b[0m\u001b[0mx_vec\u001b[0m\u001b[0;34m)\u001b[0m \u001b[0;34m*\u001b[0m \u001b[0mtarget\u001b[0m \u001b[0;34m<\u001b[0m \u001b[0mo\u001b[0m\u001b[0;34m)\u001b[0m\u001b[0;34m:\u001b[0m\u001b[0;34m\u001b[0m\u001b[0;34m\u001b[0m\u001b[0m\n\u001b[0m\u001b[1;32m     10\u001b[0m \u001b[0;34m\u001b[0m\u001b[0m\n\u001b[1;32m     11\u001b[0m         \u001b[0mw_vec_new\u001b[0m \u001b[0;34m=\u001b[0m \u001b[0mw_vec\u001b[0m \u001b[0;34m+\u001b[0m \u001b[0mtarget\u001b[0m\u001b[0;34m*\u001b[0m\u001b[0malpha\u001b[0m\u001b[0;34m*\u001b[0m\u001b[0mx_vec\u001b[0m\u001b[0;34m\u001b[0m\u001b[0;34m\u001b[0m\u001b[0m\n",
      "\u001b[0;31mNameError\u001b[0m: name 'o' is not defined"
     ]
    }
   ],
   "source": [
    "import numpy as np\n",
    "import matplotlib.pyplot as plt\n",
    "%matplotlib inline\n",
    "import sys\n",
    "\n",
    "def train(w_vec, x_vec, target):\n",
    "    \n",
    "    alpha = 0.7\n",
    "    if (np.dot(w_vec,x_vec) * target < 0):\n",
    "        \n",
    "        w_vec_new = w_vec + target*alpha*x_vec\n",
    "        \n",
    "        return w_vec_new\n",
    "    \n",
    "    else:\n",
    "        \n",
    "        return w_vec\n",
    "    \n",
    "train_number = 200\n",
    "\n",
    "x1_1=np.random.rand(int(train_number/2)) * 5 + 1\n",
    "\n",
    "x1_2=np.random.rand(int(train_number/2)) * 5 + 1\n",
    "\n",
    "target_x1 = np.ones(int(train_number/2))\n",
    "\n",
    "x2_1=(np.random.rand(int(train_number/2)) * 5 + 1) * -1\n",
    "\n",
    "x2_2=(np.random.rand(int(train_number/2)) * 5 + 1) * -1\n",
    "\n",
    "target_x2 = np.ones(int(train_number/2) )* -1\n",
    "\n",
    "x0=np.ones(int(train_number/2))\n",
    "\n",
    "x1=np.c_[x0, x1_1, x1_2]\n",
    "\n",
    "x2=np.c_[x0, x2_1, x2_2]\n",
    "\n",
    "x_vecs=np.r_[x1, x2]\n",
    "targets = np.r_[target_x1, target_x2]\n",
    "\n",
    "w_vec = np.array([1,2,3])\n",
    "\n",
    "epoch = 200\n",
    "for i in range(epoch):\n",
    "    for x_vec, label in zip(x_vecs, targets):\n",
    "        \n",
    "        w_vec = train(w_vec, x_vec, label)\n",
    "print (w_vec)\n",
    "\n",
    "x = np.array(range(-8,8))\n",
    "\n",
    "plt.scatter(x1[:,1], x1[:,2], c='red', marker=\"o\")\n",
    "plt.scatter(x2[:,1], x2[:,2], c='yelow', marker=\"o\")\n",
    "\n",
    "y = -(w_vec[1]/w_vec[2])*x - (w_vec[0]/w_vec[2])\n",
    "\n",
    "plt.plot(x,y)\n",
    "plt.show()\n"
   ]
  }
 ],
 "metadata": {
  "kernelspec": {
   "display_name": "Python 3",
   "language": "python",
   "name": "python3"
  },
  "language_info": {
   "codemirror_mode": {
    "name": "ipython",
    "version": 3
   },
   "file_extension": ".py",
   "mimetype": "text/x-python",
   "name": "python",
   "nbconvert_exporter": "python",
   "pygments_lexer": "ipython3",
   "version": "3.7.1"
  }
 },
 "nbformat": 4,
 "nbformat_minor": 2
}
